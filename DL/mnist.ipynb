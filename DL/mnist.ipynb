{
  "nbformat": 4,
  "nbformat_minor": 0,
  "metadata": {
    "colab": {
      "name": "Untitled4.ipynb",
      "provenance": []
    },
    "kernelspec": {
      "name": "python3",
      "display_name": "Python 3"
    },
    "accelerator": "GPU"
  },
  "cells": [
    {
      "cell_type": "code",
      "metadata": {
        "id": "mJ8Mhf4fht-v",
        "colab_type": "code",
        "colab": {}
      },
      "source": [
        "import tensorflow as tf\n",
        "from tensorflow.keras.models import Sequential\n",
        "from tensorflow.keras.layers import Dense, Dropout, BatchNormalization\n",
        "from tensorflow.keras.datasets import mnist\n",
        "import numpy as np\n",
        "import matplotlib.pyplot as plt"
      ],
      "execution_count": 0,
      "outputs": []
    },
    {
      "cell_type": "code",
      "metadata": {
        "id": "ATgt_fP0iAO4",
        "colab_type": "code",
        "colab": {}
      },
      "source": [
        "(x_train, y_train), (x_test, y_test) = mnist.load_data()"
      ],
      "execution_count": 0,
      "outputs": []
    },
    {
      "cell_type": "code",
      "metadata": {
        "id": "Gu7Qai9siN9t",
        "colab_type": "code",
        "colab": {
          "base_uri": "https://localhost:8080/",
          "height": 34
        },
        "outputId": "8a5f5147-4713-4dcf-da73-4e17a155c658"
      },
      "source": [
        "x_train.shape"
      ],
      "execution_count": 20,
      "outputs": [
        {
          "output_type": "execute_result",
          "data": {
            "text/plain": [
              "(60000, 28, 28)"
            ]
          },
          "metadata": {
            "tags": []
          },
          "execution_count": 20
        }
      ]
    },
    {
      "cell_type": "code",
      "metadata": {
        "id": "RNCv69eUiwzf",
        "colab_type": "code",
        "colab": {
          "base_uri": "https://localhost:8080/",
          "height": 34
        },
        "outputId": "8b868cb1-8d98-4a4a-ef79-6b214622c990"
      },
      "source": [
        "x_test.shape"
      ],
      "execution_count": 21,
      "outputs": [
        {
          "output_type": "execute_result",
          "data": {
            "text/plain": [
              "(10000, 28, 28)"
            ]
          },
          "metadata": {
            "tags": []
          },
          "execution_count": 21
        }
      ]
    },
    {
      "cell_type": "code",
      "metadata": {
        "id": "HWFyZku1jAFK",
        "colab_type": "code",
        "colab": {
          "base_uri": "https://localhost:8080/",
          "height": 281
        },
        "outputId": "cad6132f-275e-4ab8-f0fe-4dd08d500353"
      },
      "source": [
        "label = y_train[5]\n",
        "pixels = x_train[5]\n",
        "pixels = np.array(pixels, dtype='uint8')\n",
        "plt.title('Label is {label}'.format(label=label))\n",
        "plt.imshow(pixels, cmap='gray')\n",
        "plt.show()"
      ],
      "execution_count": 22,
      "outputs": [
        {
          "output_type": "display_data",
          "data": {
            "image/png": "[encoded data removed]",
            "text/plain": [
              "<Figure size 432x288 with 1 Axes>"
            ]
          },
          "metadata": {
            "tags": [],
            "needs_background": "light"
          }
        }
      ]
    },
    {
      "cell_type": "code",
      "metadata": {
        "id": "ydwBWVDuj8I-",
        "colab_type": "code",
        "colab": {}
      },
      "source": [
        "x_train = x_train.reshape(x_train.shape[0], x_train.shape[1]*x_train.shape[2])"
      ],
      "execution_count": 0,
      "outputs": []
    },
    {
      "cell_type": "code",
      "metadata": {
        "id": "ulGCN7D7lOUl",
        "colab_type": "code",
        "colab": {
          "base_uri": "https://localhost:8080/",
          "height": 34
        },
        "outputId": "4b56c3a6-e603-4a7a-ccb2-2863a801a180"
      },
      "source": [
        "x_train.shape"
      ],
      "execution_count": 24,
      "outputs": [
        {
          "output_type": "execute_result",
          "data": {
            "text/plain": [
              "(60000, 784)"
            ]
          },
          "metadata": {
            "tags": []
          },
          "execution_count": 24
        }
      ]
    },
    {
      "cell_type": "code",
      "metadata": {
        "id": "fg3VKSIYlQhH",
        "colab_type": "code",
        "colab": {}
      },
      "source": [
        "x_test = x_test.reshape(x_test.shape[0], x_test.shape[1]*x_test.shape[2])"
      ],
      "execution_count": 0,
      "outputs": []
    },
    {
      "cell_type": "code",
      "metadata": {
        "id": "QQM04vVol78E",
        "colab_type": "code",
        "colab": {
          "base_uri": "https://localhost:8080/",
          "height": 34
        },
        "outputId": "c4e37d43-0976-47f2-8555-290f74068515"
      },
      "source": [
        "x_test.shape"
      ],
      "execution_count": 26,
      "outputs": [
        {
          "output_type": "execute_result",
          "data": {
            "text/plain": [
              "(10000, 784)"
            ]
          },
          "metadata": {
            "tags": []
          },
          "execution_count": 26
        }
      ]
    },
    {
      "cell_type": "code",
      "metadata": {
        "id": "NNfAaCDtl-0F",
        "colab_type": "code",
        "colab": {
          "base_uri": "https://localhost:8080/",
          "height": 34
        },
        "outputId": "08a1457c-6cf8-472a-aa09-e37ff1c9f30e"
      },
      "source": [
        "set(y_train)"
      ],
      "execution_count": 27,
      "outputs": [
        {
          "output_type": "execute_result",
          "data": {
            "text/plain": [
              "{0, 1, 2, 3, 4, 5, 6, 7, 8, 9}"
            ]
          },
          "metadata": {
            "tags": []
          },
          "execution_count": 27
        }
      ]
    },
    {
      "cell_type": "code",
      "metadata": {
        "id": "Xp2vWSRfmNAN",
        "colab_type": "code",
        "colab": {}
      },
      "source": [
        "from keras.utils import np_utils"
      ],
      "execution_count": 0,
      "outputs": []
    },
    {
      "cell_type": "code",
      "metadata": {
        "id": "rGrdxsxMml7m",
        "colab_type": "code",
        "colab": {}
      },
      "source": [
        "y_train = np_utils.to_categorical(y_train,10)\n",
        "y_test = np_utils.to_categorical(y_test,10)"
      ],
      "execution_count": 0,
      "outputs": []
    },
    {
      "cell_type": "code",
      "metadata": {
        "id": "Rr6SAybwm_S4",
        "colab_type": "code",
        "colab": {
          "base_uri": "https://localhost:8080/",
          "height": 34
        },
        "outputId": "9e7be274-15d4-444b-df1c-f59d4d0b1594"
      },
      "source": [
        "y_train[0]"
      ],
      "execution_count": 30,
      "outputs": [
        {
          "output_type": "execute_result",
          "data": {
            "text/plain": [
              "array([0., 0., 0., 0., 0., 1., 0., 0., 0., 0.], dtype=float32)"
            ]
          },
          "metadata": {
            "tags": []
          },
          "execution_count": 30
        }
      ]
    },
    {
      "cell_type": "code",
      "metadata": {
        "id": "61zRRjvcnIOI",
        "colab_type": "code",
        "colab": {
          "base_uri": "https://localhost:8080/",
          "height": 34
        },
        "outputId": "20baa670-0e97-441d-8398-b7eb6d60eeb1"
      },
      "source": [
        "y_train[1]"
      ],
      "execution_count": 32,
      "outputs": [
        {
          "output_type": "execute_result",
          "data": {
            "text/plain": [
              "array([1., 0., 0., 0., 0., 0., 0., 0., 0., 0.], dtype=float32)"
            ]
          },
          "metadata": {
            "tags": []
          },
          "execution_count": 32
        }
      ]
    },
    {
      "cell_type": "code",
      "metadata": {
        "id": "QNNYSvlBnTv6",
        "colab_type": "code",
        "colab": {}
      },
      "source": [
        "x_train = x_train/255\n",
        "x_test = x_test/255"
      ],
      "execution_count": 0,
      "outputs": []
    },
    {
      "cell_type": "code",
      "metadata": {
        "id": "mMg_ajFRnqM4",
        "colab_type": "code",
        "colab": {}
      },
      "source": [
        "model = Sequential()"
      ],
      "execution_count": 0,
      "outputs": []
    },
    {
      "cell_type": "code",
      "metadata": {
        "id": "Ko4tSoBTn28b",
        "colab_type": "code",
        "colab": {}
      },
      "source": [
        "model.add(Dense(32,input_shape=(784,)))\n",
        "model.add(Dense(64,activation='relu'))\n",
        "model.add(Dropout(0.3))\n",
        "model.add(Dense(128,activation='relu'))\n",
        "model.add(Dropout(0.3))\n",
        "model.add(Dense(10,activation='softmax'))"
      ],
      "execution_count": 0,
      "outputs": []
    },
    {
      "cell_type": "code",
      "metadata": {
        "id": "QypT3YBnox0F",
        "colab_type": "code",
        "colab": {}
      },
      "source": [
        "model.compile(loss='categorical_crossentropy',optimizer='adam',metrics=['accuracy'])"
      ],
      "execution_count": 0,
      "outputs": []
    },
    {
      "cell_type": "code",
      "metadata": {
        "id": "NjuPDgDFpSlE",
        "colab_type": "code",
        "colab": {
          "base_uri": "https://localhost:8080/",
          "height": 442
        },
        "outputId": "3f5a4efa-7c05-4c08-d9fd-84607c3b65cd"
      },
      "source": [
        "model.fit(x_train, y_train,epochs=12,batch_size=200, validation_data=(x_test,y_test))"
      ],
      "execution_count": 46,
      "outputs": [
        {
          "output_type": "stream",
          "text": [
            "Epoch 1/12\n",
            "300/300 [==============================] - 1s 5ms/step - loss: 0.6641 - accuracy: 0.7922 - val_loss: 0.2547 - val_accuracy: 0.9230\n",
            "Epoch 2/12\n",
            "300/300 [==============================] - 1s 4ms/step - loss: 0.3287 - accuracy: 0.9034 - val_loss: 0.1989 - val_accuracy: 0.9389\n",
            "Epoch 3/12\n",
            "300/300 [==============================] - 1s 4ms/step - loss: 0.2731 - accuracy: 0.9197 - val_loss: 0.1745 - val_accuracy: 0.9465\n",
            "Epoch 4/12\n",
            "300/300 [==============================] - 1s 4ms/step - loss: 0.2488 - accuracy: 0.9259 - val_loss: 0.1549 - val_accuracy: 0.9519\n",
            "Epoch 5/12\n",
            "300/300 [==============================] - 1s 4ms/step - loss: 0.2228 - accuracy: 0.9336 - val_loss: 0.1514 - val_accuracy: 0.9538\n",
            "Epoch 6/12\n",
            "300/300 [==============================] - 1s 4ms/step - loss: 0.2075 - accuracy: 0.9386 - val_loss: 0.1413 - val_accuracy: 0.9574\n",
            "Epoch 7/12\n",
            "300/300 [==============================] - 1s 4ms/step - loss: 0.1980 - accuracy: 0.9409 - val_loss: 0.1383 - val_accuracy: 0.9581\n",
            "Epoch 8/12\n",
            "300/300 [==============================] - 1s 4ms/step - loss: 0.1845 - accuracy: 0.9440 - val_loss: 0.1317 - val_accuracy: 0.9594\n",
            "Epoch 9/12\n",
            "300/300 [==============================] - 1s 4ms/step - loss: 0.1734 - accuracy: 0.9473 - val_loss: 0.1267 - val_accuracy: 0.9610\n",
            "Epoch 10/12\n",
            "300/300 [==============================] - 1s 4ms/step - loss: 0.1682 - accuracy: 0.9485 - val_loss: 0.1228 - val_accuracy: 0.9601\n",
            "Epoch 11/12\n",
            "300/300 [==============================] - 1s 4ms/step - loss: 0.1615 - accuracy: 0.9501 - val_loss: 0.1204 - val_accuracy: 0.9630\n",
            "Epoch 12/12\n",
            "300/300 [==============================] - 1s 4ms/step - loss: 0.1552 - accuracy: 0.9528 - val_loss: 0.1206 - val_accuracy: 0.9630\n"
          ],
          "name": "stdout"
        },
        {
          "output_type": "execute_result",
          "data": {
            "text/plain": [
              "<tensorflow.python.keras.callbacks.History at 0x7f37903184a8>"
            ]
          },
          "metadata": {
            "tags": []
          },
          "execution_count": 46
        }
      ]
    },
    {
      "cell_type": "code",
      "metadata": {
        "id": "bTurM0zspdYg",
        "colab_type": "code",
        "colab": {}
      },
      "source": [
        ""
      ],
      "execution_count": 0,
      "outputs": []
    }
  ]
}